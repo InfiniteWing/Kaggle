{
  "cells": [
    {
      "cell_type": "markdown",
      "metadata": {
        "collapsed": false,
        "_execution_state": "idle",
        "_cell_guid": "5821a298-cce1-4daf-bc33-cf21ce8f6483",
        "_uuid": "f343b0b6fedfdbfab2c3d9f066668f2294a35454"
      },
      "outputs": [],
      "execution_count": null,
      "source": "# **Beautiful orders' visualization**\n### *InfiniteWing*\n### *2017-07-18*\n\nHello, this notebook seeks to create visualization of each order. For each visualization image, the y axis presents customer's order and x axis presents product(only shows the product that customer bought).\n\n(The green shows the first time buy, and blue shows it is reordered.)\n\nIf you like it or get some inspiration, an upvote is appreciated.\n\nPS:\nPlease correct me if there's something wrong on my code:)"
    },
    {
      "cell_type": "markdown",
      "metadata": {
        "collapsed": false,
        "_execution_state": "idle",
        "_cell_guid": "5ff48c58-0fe0-488b-852e-97c4dba766cc",
        "_uuid": "b4d99cca6b4f3958877e8e72f13ab4729a519036"
      },
      "outputs": [],
      "execution_count": null,
      "source": "### Load libraries"
    },
    {
      "cell_type": "code",
      "metadata": {
        "_cell_guid": "6fe70dba-232c-48cc-b2e1-10f064ba50d9",
        "_uuid": "6052a1cfbeedbf43ea8fa6ec40bb082ad0ae33f1",
        "trusted": false
      },
      "outputs": [],
      "execution_count": null,
      "source": "from PIL import Image,ImageDraw\nimport matplotlib.pyplot as plt\nimport matplotlib"
    },
    {
      "cell_type": "markdown",
      "metadata": {
        "collapsed": false,
        "_execution_state": "idle",
        "_cell_guid": "39360ef6-17f1-4991-87f4-7a8622ea3bc2",
        "_uuid": "b1071d187978f24a12432f81bc3db8e6c0bf8dce"
      },
      "outputs": [],
      "execution_count": null,
      "source": "### Global var"
    },
    {
      "cell_type": "code",
      "metadata": {
        "collapsed": false,
        "_execution_state": "idle",
        "_cell_guid": "1df365d0-ce9a-4dc1-80f8-a229f174d84a",
        "_uuid": "d8a6371ad72d568acadc6cff04c26a20f53f478e",
        "trusted": false
      },
      "outputs": [],
      "execution_count": null,
      "source": "orders={}\nusers={}"
    },
    {
      "cell_type": "markdown",
      "metadata": {
        "collapsed": false,
        "_execution_state": "idle",
        "_cell_guid": "05c8d57a-bcdf-4d3f-a51f-a985a9baa0cd",
        "_uuid": "ffefb2857b3d61e08719684fbedc50943ef146d9"
      },
      "outputs": [],
      "execution_count": null,
      "source": "### Read prior order-products"
    },
    {
      "cell_type": "code",
      "metadata": {
        "collapsed": false,
        "_execution_state": "idle",
        "_cell_guid": "64931b10-8d18-4e08-8ae8-ac76fbbe5b43",
        "_uuid": "09c18e0ecda2d654b3f6259d55b9e062ee322859",
        "trusted": false
      },
      "outputs": [],
      "execution_count": null,
      "source": "fr = open(\"../input/order_products__prior.csv\", 'r')\nfr.readline()# skip header\nlines=fr.readlines()\nfor i,line in enumerate(lines):\n    datas=line.replace(\"\\n\",\"\").split(\",\")\n    order_id=int(datas[0])\n    product_id=int(datas[1])\n    reorderer=int(datas[3])\n    if(order_id not in orders):\n        orders[order_id]={}\n    orders[order_id][product_id]=reorderer"
    },
    {
      "cell_type": "markdown",
      "metadata": {
        "collapsed": false,
        "_execution_state": "idle",
        "_cell_guid": "4a610146-30fb-471d-b87c-939179aea2b3",
        "_uuid": "11510fb83b41d76f29f8542bfa814652d4605959"
      },
      "outputs": [],
      "execution_count": null,
      "source": "### Read train order-products"
    },
    {
      "cell_type": "code",
      "metadata": {
        "collapsed": false,
        "_execution_state": "idle",
        "_cell_guid": "aba67727-2c6e-48b9-b066-7b978bd76880",
        "_uuid": "712a4fa40d62ede7f4804d1a121ebc6a2f3462cd",
        "trusted": false
      },
      "outputs": [],
      "execution_count": null,
      "source": "fr = open(\"../input/order_products__train.csv\", 'r')\nfr.readline()# skip header\nlines=fr.readlines()\nfor i,line in enumerate(lines):\n    datas=line.replace(\"\\n\",\"\").split(\",\")\n    order_id=int(datas[0])\n    product_id=int(datas[1])\n    reorderer=int(datas[3])\n    if(order_id not in orders):\n        orders[order_id]={}\n    orders[order_id][product_id]=reorderer"
    },
    {
      "cell_type": "markdown",
      "metadata": {
        "collapsed": false,
        "_execution_state": "idle",
        "_cell_guid": "35d9562e-8dfb-49f7-ba7d-3736bce0a553",
        "_uuid": "9bb13f7b49e2b056e05de32d2c1f068cccfb3b49"
      },
      "outputs": [],
      "execution_count": null,
      "source": "### Read orders"
    },
    {
      "cell_type": "code",
      "metadata": {
        "collapsed": false,
        "_execution_state": "idle",
        "_cell_guid": "5c7e7f23-3da4-47b9-b674-24cb78ac6079",
        "_uuid": "fe83ca82aa962049b7dfa20517eeea5f408edcfb",
        "trusted": false
      },
      "outputs": [],
      "execution_count": null,
      "source": "fr = open(\"../input/orders.csv\", 'r')\nfr.readline()# skip header\nlines=fr.readlines()\nfor i,line in enumerate(lines):\n    datas=line.replace(\"\\n\",\"\").split(\",\")\n    order_id=int(datas[0])\n    user_id=int(datas[1])\n    eval_set=(datas[2])\n    order_number=int(datas[3])\n    if(user_id not in users):\n        users[user_id]={}\n    if(eval_set==\"prior\"):\n        users[user_id][order_number]=order_id\n    elif(eval_set==\"train\"):\n        users[user_id][order_number]=order_id\n    if(eval_set==\"test\"):\n        users[user_id][\"test\"]=order_id"
    },
    {
      "cell_type": "markdown",
      "metadata": {
        "collapsed": false,
        "_execution_state": "idle",
        "_cell_guid": "8b7c8e41-d819-468f-94d0-3cd4059bfe90",
        "_uuid": "3aace155daff0a1a327184c26f68d0e23196da18"
      },
      "outputs": [],
      "execution_count": null,
      "source": "### Show orders' visualization"
    },
    {
      "cell_type": "code",
      "metadata": {
        "collapsed": false,
        "_execution_state": "idle",
        "_cell_guid": "0ef5e4c5-9167-40bd-8d3e-4cd08f4ba382",
        "_uuid": "131b321a1dc084930010f23176d4930ed175fc87",
        "trusted": false
      },
      "outputs": [],
      "execution_count": null,
      "source": "k=0\nn_images = 20\n\nfig = plt.figure(figsize=(12,10))\nfor user_id in users:\n    #skip this user if he/she doesn't need to be predict\n    if(\"test\" not in users[user_id]):\n        continue\n    products_index={}\n    products={}\n    \n    # count distinc product\n    for order_number in users[user_id]:\n        order_id=users[user_id][order_number]\n        if(order_number==\"test\"):\n            continue\n        for index,product_id in enumerate(orders[order_id]):\n            if(product_id not in products):\n                products[product_id]=1\n    \n    test_order_number=users[user_id][\"test\"]\n    i=0\n    y=0\n    box_width=5\n    distinc_product_count=len(products)\n    img = Image.new( \"RGB\", (distinc_product_count*box_width,(len(users[user_id])-1)*box_width) )\n    \n    #show image\n    \n    for order_number in users[user_id]:\n        order_id=users[user_id][order_number]\n        if(order_number==\"test\"):\n            continue\n        # default white\n        colors=[(255,255,255) for j in range(distinc_product_count)]\n        for product_id in orders[order_id]:\n            if(product_id not in products_index):\n                products_index[product_id]=i    \n                i+=1\n            if(orders[order_id][product_id]==0):# first time buy\n                colors[products_index[product_id]]=(0,255,0)# green\n            else:# reorder\n                colors[products_index[product_id]]=(0,0,255)# blue\n        for x,color in enumerate(colors):\n            start_x=x*box_width\n            start_y=y*box_width\n            for offset_x in range(box_width):\n                for offset_y in range(box_width):\n                    img.putpixel( (start_x+offset_x,start_y+offset_y), color)\n        y+=1\n    ax = fig.add_subplot(5,4,k+1)\n    plt.grid(False)\n    plt.imshow(img)\n    plt.title(\"User {}'s order history\".format(user_id))\n    \n    # You can save image to your own folder\n    #im.save( \"vis/{}.jpg\".format(user_id) ) \n    \n    # Only show first 20 customers' order image\n    k+=1\n    if(k>=n_images):\n        break"
    },
    {
      "cell_type": "markdown",
      "metadata": {
        "collapsed": false,
        "_execution_state": "idle",
        "_cell_guid": "345d72a0-eea9-424c-addc-b64d7cb42aaa",
        "_uuid": "8d3d6b4a5e5fc7a97c8b6ee9e43c5f92c9d83578"
      },
      "outputs": [],
      "execution_count": null,
      "source": "## *Thanks for reading. Good luck and have fun!*"
    }
  ],
  "metadata": {
    "kernelspec": {
      "display_name": "Python 3",
      "language": "python",
      "name": "python3"
    },
    "language_info": {
      "name": "python",
      "version": "3.6.1",
      "mimetype": "text/x-python",
      "codemirror_mode": {
        "name": "ipython",
        "version": 3
      },
      "pygments_lexer": "ipython3",
      "nbconvert_exporter": "python",
      "file_extension": ".py"
    }
  },
  "nbformat": 4,
  "nbformat_minor": 0
}